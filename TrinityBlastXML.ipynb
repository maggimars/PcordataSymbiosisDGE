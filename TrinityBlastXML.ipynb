{
 "cells": [
  {
   "cell_type": "code",
   "execution_count": 1,
   "metadata": {},
   "outputs": [],
   "source": [
    "from Bio.Blast import NCBIXML"
   ]
  },
  {
   "cell_type": "code",
   "execution_count": 3,
   "metadata": {},
   "outputs": [
    {
     "data": {
      "text/plain": [
       "56163"
      ]
     },
     "execution_count": 3,
     "metadata": {},
     "output_type": "execute_result"
    }
   ],
   "source": [
    "blast = NCBIXML.parse(open('/Users/brisbin/desktop/RNAseqTHESIS/PCassembly/hiSeqRnd2/pcTrinity_PC_clustered_95Blast.xml','rU'))\n",
    "\n",
    "geneIDlist=[]\n",
    "giNUMlist=[]\n",
    "for record in blast:\n",
    "    if record.alignments:\n",
    "        #print gene id\n",
    "         geneIDlist.append(record.query)\n",
    "        # to print the \"best\" matches title\n",
    "         giNUMlist.append(record.alignments[0].title)\n",
    "        # to print the query sequence\n",
    "        #print record.alignments[0].hsps[0].query\n",
    "        \n",
    "        #'hsps.query' is not the raw sequence. The 'record.query' will give the gene id which can be \n",
    "        # used to attain the raw sequence\n",
    "        #use seqIO to get raw seuqence from the gene_id\n",
    "\n",
    "len(geneIDlist)"
   ]
  },
  {
   "cell_type": "code",
   "execution_count": null,
   "metadata": {
    "collapsed": true
   },
   "outputs": [],
   "source": []
  },
  {
   "cell_type": "code",
   "execution_count": 4,
   "metadata": {},
   "outputs": [
    {
     "data": {
      "text/plain": [
       "[u'TRINITY_DN16717_c0_g1_i1 len=1137 path=[0:0-1136]',\n",
       " u'TRINITY_DN21421_c0_g1_i1 len=514 path=[0:0-513]']"
      ]
     },
     "execution_count": 4,
     "metadata": {},
     "output_type": "execute_result"
    }
   ],
   "source": [
    "geneIDlist[1:3]"
   ]
  },
  {
   "cell_type": "code",
   "execution_count": 5,
   "metadata": {},
   "outputs": [
    {
     "data": {
      "text/plain": [
       "[u'gnl|BL_ORD_ID|29703681 XR_001430936.1 PREDICTED: Acinonyx jubatus uncharacterized LOC106979408 (LOC106979408), ncRNA',\n",
       " u'gnl|BL_ORD_ID|37051555 CP017674.1 Microbacterium sp. BH-3-3-3, complete genome',\n",
       " u'gnl|BL_ORD_ID|29852127 AP015039.1 Vigna angularis var. angularis DNA, chromosome 6, almost complete sequence, cultivar: Shumari',\n",
       " u'gnl|BL_ORD_ID|27701267 CP009312.1 Corynebacteriales bacterium X1036, complete genome',\n",
       " u'gnl|BL_ORD_ID|7407392 CP001804.1 Haliangium ochraceum DSM 14365, complete genome',\n",
       " u'gnl|BL_ORD_ID|37776084 CP016312.1 Thermus brockianus strain GE-1, complete genome',\n",
       " u'gnl|BL_ORD_ID|23899177 XM_011503244.1 PREDICTED: Ceratosolen solmsi marchali transmembrane and TPR repeat-containing protein 1-like (LOC105365150), mRNA',\n",
       " u'gnl|BL_ORD_ID|15174494 XM_005789492.1 Emiliania huxleyi CCMP1516 hypothetical protein partial mRNA',\n",
       " u'gnl|BL_ORD_ID|40080173 CP016237.1 Trichoderma reesei QM6a chromosome VI, complete sequence',\n",
       " u'gnl|BL_ORD_ID|43681812 CP020669.1 Oryzias latipes strain Hd-rR chromosome 5 sequence',\n",
       " u'gnl|BL_ORD_ID|15149915 XM_005764045.1 Emiliania huxleyi CCMP1516 polyketide synthase (PKS9), partial mRNA',\n",
       " u'gnl|BL_ORD_ID|32437192 XM_016420466.1 Rhodotorula toruloides NP11 zuotin partial mRNA',\n",
       " u'gnl|BL_ORD_ID|28695145 XM_014515672.1 PREDICTED: Papilio machaon leucine-rich repeat serine/threonine-protein kinase 1 (LOC106720873), mRNA',\n",
       " u'gnl|BL_ORD_ID|15159303 XM_005773919.1 Emiliania huxleyi CCMP1516 hypothetical protein partial mRNA',\n",
       " u'gnl|BL_ORD_ID|15658434 CP004002.1 Burkholderia pseudomallei NCTC 13178 chromosome 2, complete sequence',\n",
       " u'gnl|BL_ORD_ID|42676187 XM_002454978.2 PREDICTED: Sorghum bicolor transcription factor RAX2 (LOC8066610), mRNA',\n",
       " u'gnl|BL_ORD_ID|42987793 XR_002471512.1 PREDICTED: Oncorhynchus mykiss GRB10-interacting GYF protein 1-like (LOC110509925), transcript variant X3, misc_RNA',\n",
       " u'gnl|BL_ORD_ID|41563860 CP019937.1 Ketogulonicigenium robustum strain SPU_B003, complete genome',\n",
       " u'gnl|BL_ORD_ID|43681842 CP020788.1 Oryzias latipes strain HNI chromosome 10']"
      ]
     },
     "execution_count": 5,
     "metadata": {},
     "output_type": "execute_result"
    }
   ],
   "source": [
    "# list of hit titles - includes the gi number, ACN, and species\n",
    "giNUMlist[1:20]"
   ]
  },
  {
   "cell_type": "code",
   "execution_count": 6,
   "metadata": {},
   "outputs": [
    {
     "data": {
      "text/plain": [
       "56163"
      ]
     },
     "execution_count": 6,
     "metadata": {},
     "output_type": "execute_result"
    }
   ],
   "source": [
    "len(giNUMlist)"
   ]
  },
  {
   "cell_type": "code",
   "execution_count": 7,
   "metadata": {},
   "outputs": [
    {
     "data": {
      "text/plain": [
       "[u'CP018158.1', u'XR_001430936.1', u'CP017674.1', u'AP015039.1', u'CP009312.1']"
      ]
     },
     "execution_count": 7,
     "metadata": {},
     "output_type": "execute_result"
    }
   ],
   "source": [
    "# ## strip the hit title list to include a list of accession numbers only\n",
    "newGIlist=[]\n",
    "ACNlist = []\n",
    "for i in range(0,len(giNUMlist)):\n",
    "    newGI= (giNUMlist[i].split(\"|\")[2])\n",
    "    newGIlist.append(newGI)\n",
    "    new = newGIlist[i].split()[1]\n",
    "    ACNlist.append(new)\n",
    "    \n",
    "  \n",
    "ACNlist[0:5]"
   ]
  },
  {
   "cell_type": "code",
   "execution_count": 8,
   "metadata": {},
   "outputs": [
    {
     "data": {
      "text/plain": [
       "[u'TRINITY_DN1127_c1_g3_i1',\n",
       " u'TRINITY_DN16717_c0_g1_i1',\n",
       " u'TRINITY_DN21421_c0_g1_i1',\n",
       " u'TRINITY_DN43659_c0_g1_i1',\n",
       " u'TRINITY_DN18434_c0_g1_i1']"
      ]
     },
     "execution_count": 8,
     "metadata": {},
     "output_type": "execute_result"
    }
   ],
   "source": [
    "# strip query title to include ony the gene_id\n",
    "newGENElist=[]\n",
    "for i in range(0,len(geneIDlist)):\n",
    "    newGENE= (geneIDlist[i].split(\" \")[0])\n",
    "    newGENElist.append(newGENE)\n",
    "  \n",
    "newGENElist[0:5]\n",
    " "
   ]
  },
  {
   "cell_type": "code",
   "execution_count": 9,
   "metadata": {},
   "outputs": [
    {
     "name": "stdout",
     "output_type": "stream",
     "text": [
      "[u'Oryza sativa', u'Acinonyx jubatus', u'Microbacterium sp.', u'Vigna angularis', u'Corynebacteriales bacterium', u'Haliangium ochraceum', u'Thermus brockianus', u'Ceratosolen solmsi', u'Emiliania huxleyi', u'Trichoderma reesei']\n"
     ]
    }
   ],
   "source": [
    "# If using entrez to search taxonomy database: gi or ACN will not return results. Need to search with species.\n",
    "#instead of gi or ACN, need species from hit title. \n",
    "#Create new list with the species from each hit. \n",
    "\n",
    "SPlist=[]\n",
    "for i in range(0,len(giNUMlist)):\n",
    "    newSP= giNUMlist[i].split()\n",
    "    if newSP[2] == \"PREDICTED:\":\n",
    "        GeSp= newSP[3:5]\n",
    "        GeSpstr = ' '.join(GeSp)\n",
    "        SPlist.append(GeSpstr)\n",
    "    else:\n",
    "        GeSp= newSP[2:4]\n",
    "        GeSpstr = ' '.join(GeSp)\n",
    "        SPlist.append(GeSpstr)\n",
    "\n",
    "\n",
    "print SPlist[0:10]"
   ]
  },
  {
   "cell_type": "code",
   "execution_count": 10,
   "metadata": {},
   "outputs": [
    {
     "data": {
      "text/plain": [
       "56163"
      ]
     },
     "execution_count": 10,
     "metadata": {},
     "output_type": "execute_result"
    }
   ],
   "source": [
    "# create a dictionary with the key as the gene id and the value as the species name\n",
    "GeneSpeciesDict={}\n",
    "\n",
    "for i in range(0,len(newGENElist)):\n",
    "    newkey = newGENElist[i]\n",
    "    GeneSpeciesDict[newkey]=SPlist[i]\n",
    "\n",
    "len(GeneSpeciesDict)"
   ]
  },
  {
   "cell_type": "code",
   "execution_count": 11,
   "metadata": {},
   "outputs": [
    {
     "data": {
      "text/plain": [
       "{u'TRINITY_DN10374_c0_g1_i6': u'Oryzias latipes',\n",
       " u'TRINITY_DN1127_c1_g3_i1': u'Oryza sativa',\n",
       " u'TRINITY_DN13252_c0_g1_i2': u'Haliangium ochraceum',\n",
       " u'TRINITY_DN15850_c0_g1_i1': u'Thermus brockianus',\n",
       " u'TRINITY_DN16717_c0_g1_i1': u'Acinonyx jubatus',\n",
       " u'TRINITY_DN18260_c0_g1_i2': u'Ceratosolen solmsi',\n",
       " u'TRINITY_DN18434_c0_g1_i1': u'Corynebacteriales bacterium',\n",
       " u'TRINITY_DN2441_c1_g4_i2': u'Emiliania huxleyi',\n",
       " u'TRINITY_DN40367_c0_g1_i1': u'Symbiobacterium thermophilum',\n",
       " u'TRINITY_DN43659_c0_g1_i1': u'Vigna angularis'}"
      ]
     },
     "execution_count": 11,
     "metadata": {},
     "output_type": "execute_result"
    }
   ],
   "source": [
    "#Get rid of geneIDs that do not have taxonomy available (no species name in title)\n",
    "# for now - doing this by removing entries whose title is too long (>50 characters)\n",
    "#to be a species name\n",
    "\n",
    "#function to look at slice of a dictionary\n",
    "import itertools\n",
    "def glance(d):\n",
    "    return dict(itertools.islice(d.iteritems(), 10))\n",
    "\n",
    "#keylist is list of 42 trinID that are keys from GeneSpeciesDict - remember this specis list \n",
    "# IS repetitive\n",
    "# if any of the species names are too long - delete entry\n",
    "#keylist = GeneSpeciesDict.keys()\n",
    "#for i in keylist:\n",
    "#    if i in GeneSpeciesDict:\n",
    "#        if len(GeneSpeciesDict[i])> 50:\n",
    "#            del GeneSpeciesDict[i] \n",
    "#This will not work for Phaeocystis trinity ... bc split by word not by |\n",
    "# even if entry is not a genus species - it will still be less than 50 characters \n",
    "\n",
    "glance(GeneSpeciesDict)"
   ]
  },
  {
   "cell_type": "code",
   "execution_count": 12,
   "metadata": {},
   "outputs": [],
   "source": [
    "# Remove duplicates BEFORE looping through the list\n",
    "SPlist = list(set(SPlist))"
   ]
  },
  {
   "cell_type": "code",
   "execution_count": 13,
   "metadata": {},
   "outputs": [
    {
     "data": {
      "text/plain": [
       "2926"
      ]
     },
     "execution_count": 13,
     "metadata": {},
     "output_type": "execute_result"
    }
   ],
   "source": [
    "#Check to see how many unique species\n",
    "len(SPlist)"
   ]
  },
  {
   "cell_type": "code",
   "execution_count": 14,
   "metadata": {},
   "outputs": [],
   "source": [
    "from time import sleep"
   ]
  },
  {
   "cell_type": "code",
   "execution_count": 15,
   "metadata": {},
   "outputs": [],
   "source": [
    "# use SPlist to fetch TAXID from entrez\n",
    "\n",
    "from Bio import Entrez\n",
    "Entrez.email=\"margaret.marsbrisbin@oist.jp\"\n",
    "Entrez.API_KEY=\"70c7bf73242e2b306b829673fb6e08996b08\"\n",
    "\n",
    "taxID = {}\n",
    "\n",
    "for i in SPlist[0:500]:\n",
    "    handle = Entrez.esearch(db=\"taxonomy\", term= i)\n",
    "    record = Entrez.read(handle)\n",
    "    taxID[i] = record[\"IdList\"]#[0] does this zero make the difference?\n",
    "    sleep(0.7)\n",
    "\n",
    "    "
   ]
  },
  {
   "cell_type": "code",
   "execution_count": 16,
   "metadata": {},
   "outputs": [],
   "source": [
    "\n",
    "for i in SPlist[500:1000]:\n",
    "    handle = Entrez.esearch(db=\"taxonomy\", term= i)\n",
    "    record = Entrez.read(handle)\n",
    "    taxID[i] = record[\"IdList\"]#[0] does this zero make the difference?\n",
    "    sleep(0.7)"
   ]
  },
  {
   "cell_type": "code",
   "execution_count": 17,
   "metadata": {},
   "outputs": [],
   "source": [
    "\n",
    "for i in SPlist[1000:1500]:\n",
    "    handle = Entrez.esearch(db=\"taxonomy\", term= i)\n",
    "    record = Entrez.read(handle)\n",
    "    taxID[i] = record[\"IdList\"]#[0] does this zero make the difference?\n",
    "    sleep(0.7)"
   ]
  },
  {
   "cell_type": "code",
   "execution_count": 30,
   "metadata": {},
   "outputs": [],
   "source": [
    "\n",
    "for i in SPlist[1500:2000]:\n",
    "    handle = Entrez.esearch(db=\"taxonomy\", term= i)\n",
    "    record = Entrez.read(handle)\n",
    "    taxID[i] = record[\"IdList\"]\n",
    "    sleep(0.7)"
   ]
  },
  {
   "cell_type": "code",
   "execution_count": 31,
   "metadata": {},
   "outputs": [
    {
     "data": {
      "text/plain": [
       "2500"
      ]
     },
     "execution_count": 31,
     "metadata": {},
     "output_type": "execute_result"
    }
   ],
   "source": [
    "len(taxID)"
   ]
  },
  {
   "cell_type": "code",
   "execution_count": 32,
   "metadata": {},
   "outputs": [],
   "source": [
    "\n",
    "for i in SPlist[2000:2500]:\n",
    "    handle = Entrez.esearch(db=\"taxonomy\", term= i)\n",
    "    record = Entrez.read(handle)\n",
    "    taxID[i] = record[\"IdList\"]#[0] does this zero make the difference?\n",
    "    sleep(0.7)"
   ]
  },
  {
   "cell_type": "code",
   "execution_count": 33,
   "metadata": {},
   "outputs": [],
   "source": [
    "\n",
    "for i in SPlist[2500:]:\n",
    "    handle = Entrez.esearch(db=\"taxonomy\", term= i)\n",
    "    record = Entrez.read(handle)\n",
    "    taxID[i] = record[\"IdList\"]#[0] does this zero make the difference?\n",
    "    sleep(0.7)"
   ]
  },
  {
   "cell_type": "code",
   "execution_count": 34,
   "metadata": {},
   "outputs": [
    {
     "data": {
      "text/plain": [
       "2926"
      ]
     },
     "execution_count": 34,
     "metadata": {},
     "output_type": "execute_result"
    }
   ],
   "source": [
    "len(taxID)"
   ]
  },
  {
   "cell_type": "code",
   "execution_count": 35,
   "metadata": {},
   "outputs": [],
   "source": [
    "from Bio import Entrez\n",
    "Entrez.email=\"margaret.marsbrisbin@oist.jp\"\n",
    "Entrez.API_KEY=\"70c7bf73242e2b306b829673fb6e08996b08\"\n",
    "\n",
    "taxID2 = {}\n",
    "\n",
    "for i in SPlist[0:500]:\n",
    "    if i in taxID2:\n",
    "        continue\n",
    "    handle = Entrez.esearch(db=\"taxonomy\", term= i)\n",
    "    record = Entrez.read(handle)\n",
    "    #if not record[\"IdList\"]:\n",
    "    #    pdb.set_trace()\n",
    "    if record[\"IdList\"]:\n",
    "        taxID2[i] = record[\"IdList\"][0]\n",
    "#    taxIDlist.append(record[\"IdList\"])\n",
    "    "
   ]
  },
  {
   "cell_type": "code",
   "execution_count": 36,
   "metadata": {},
   "outputs": [],
   "source": [
    "for i in SPlist[500:1000]:\n",
    "    if i in taxID2:\n",
    "        continue\n",
    "    handle = Entrez.esearch(db=\"taxonomy\", term= i)\n",
    "    record = Entrez.read(handle)\n",
    "    #if not record[\"IdList\"]:\n",
    "    #    pdb.set_trace()\n",
    "    if record[\"IdList\"]:\n",
    "        taxID2[i] = record[\"IdList\"][0]"
   ]
  },
  {
   "cell_type": "code",
   "execution_count": 37,
   "metadata": {},
   "outputs": [],
   "source": [
    "for i in SPlist[1000:1500]:\n",
    "    if i in taxID2:\n",
    "        continue\n",
    "    handle = Entrez.esearch(db=\"taxonomy\", term= i)\n",
    "    record = Entrez.read(handle)\n",
    "    #if not record[\"IdList\"]:\n",
    "    #    pdb.set_trace()\n",
    "    if record[\"IdList\"]:\n",
    "        taxID2[i] = record[\"IdList\"][0]"
   ]
  },
  {
   "cell_type": "code",
   "execution_count": 38,
   "metadata": {},
   "outputs": [],
   "source": [
    "for i in SPlist[1500:2000]:\n",
    "    if i in taxID2:\n",
    "        continue\n",
    "    handle = Entrez.esearch(db=\"taxonomy\", term= i)\n",
    "    record = Entrez.read(handle)\n",
    "    #if not record[\"IdList\"]:\n",
    "    #    pdb.set_trace()\n",
    "    if record[\"IdList\"]:\n",
    "        taxID2[i] = record[\"IdList\"][0]"
   ]
  },
  {
   "cell_type": "code",
   "execution_count": 39,
   "metadata": {},
   "outputs": [],
   "source": [
    "for i in SPlist[2000:2500]:\n",
    "    if i in taxID2:\n",
    "        continue\n",
    "    handle = Entrez.esearch(db=\"taxonomy\", term= i)\n",
    "    record = Entrez.read(handle)\n",
    "    #if not record[\"IdList\"]:\n",
    "    #    pdb.set_trace()\n",
    "    if record[\"IdList\"]:\n",
    "        taxID2[i] = record[\"IdList\"][0]"
   ]
  },
  {
   "cell_type": "code",
   "execution_count": 44,
   "metadata": {},
   "outputs": [],
   "source": [
    "for i in SPlist[2500:]:\n",
    "    if i in taxID2:\n",
    "        continue\n",
    "    handle = Entrez.esearch(db=\"taxonomy\", term= i)\n",
    "    record = Entrez.read(handle)\n",
    "    #if not record[\"IdList\"]:\n",
    "    #    pdb.set_trace()\n",
    "    if record[\"IdList\"]:\n",
    "        taxID2[i] = record[\"IdList\"][0]"
   ]
  },
  {
   "cell_type": "code",
   "execution_count": 45,
   "metadata": {},
   "outputs": [
    {
     "data": {
      "text/plain": [
       "2761"
      ]
     },
     "execution_count": 45,
     "metadata": {},
     "output_type": "execute_result"
    }
   ],
   "source": [
    "len(taxID2)"
   ]
  },
  {
   "cell_type": "code",
   "execution_count": 46,
   "metadata": {},
   "outputs": [
    {
     "data": {
      "text/plain": [
       "{u'Branchiostoma floridae': '7739',\n",
       " u'Chlamydia avium': '1457141',\n",
       " u'Fibrella aestuarina': '651143',\n",
       " u'Hevea brasiliensis': '3981',\n",
       " u'Mycobacterium colombiense': '339268',\n",
       " u'Pandoraea faecigallinarum': '656179',\n",
       " u'Phoenix dactylifera': '42345',\n",
       " u'Spizellomyces punctatus': '109760',\n",
       " u'Trichoderma reesei': '51453',\n",
       " u'Xanthomonas campestris': '339'}"
      ]
     },
     "execution_count": 46,
     "metadata": {},
     "output_type": "execute_result"
    }
   ],
   "source": [
    "glance(taxID2)"
   ]
  },
  {
   "cell_type": "code",
   "execution_count": 49,
   "metadata": {},
   "outputs": [],
   "source": [
    "from ete2 import NCBITaxa\n",
    "ncbi = NCBITaxa()\n",
    "lineageDict={}\n",
    "\n",
    "for i in taxID2:\n",
    "    lineage = ncbi.get_lineage(taxID2[i])\n",
    "    names = ncbi.get_taxid_translator(lineage)\n",
    "    key = taxID2[i]\n",
    "    if len([names[taxid] for taxid in lineage]) < 3:\n",
    "        lineageDict[key] = 'NA'\n",
    "    else:\n",
    "        lineageDict[key]= [names[taxid] for taxid in lineage][2]\n",
    "\n"
   ]
  },
  {
   "cell_type": "code",
   "execution_count": 50,
   "metadata": {},
   "outputs": [
    {
     "data": {
      "text/plain": [
       "{'103944': u'Eukaryota',\n",
       " '111501': u'Bacteria',\n",
       " '13735': u'Eukaryota',\n",
       " '1871188': u'Bacteria',\n",
       " '27288': u'Eukaryota',\n",
       " '27289': u'Eukaryota',\n",
       " '35783': u'Bacteria',\n",
       " '492670': u'Bacteria',\n",
       " '60912': u'Bacteria',\n",
       " '77166': u'Eukaryota'}"
      ]
     },
     "execution_count": 50,
     "metadata": {},
     "output_type": "execute_result"
    }
   ],
   "source": [
    "glance(lineageDict)"
   ]
  },
  {
   "cell_type": "code",
   "execution_count": 51,
   "metadata": {},
   "outputs": [],
   "source": [
    "# make a dictionary for Euk/not Euk by tax id\n",
    "# 0 = Not Euk, 1 = Euk\n",
    "EukDict = {} \n",
    "\n",
    "keylist=lineageDict.keys()\n",
    "\n",
    "for i in keylist:\n",
    "    key = i\n",
    "    value = lineageDict[key]\n",
    "    if 'Eukaryota' in value:\n",
    "        binary = 1\n",
    "    else:\n",
    "        binary = 0\n",
    "    EukDict[key]= binary\n",
    "  "
   ]
  },
  {
   "cell_type": "code",
   "execution_count": 52,
   "metadata": {},
   "outputs": [
    {
     "data": {
      "text/plain": [
       "{'103944': 1,\n",
       " '13735': 1,\n",
       " '1871188': 0,\n",
       " '2024862': 0,\n",
       " '27288': 1,\n",
       " '27289': 1,\n",
       " '35783': 0,\n",
       " '492670': 0,\n",
       " '60912': 0,\n",
       " '77166': 1}"
      ]
     },
     "execution_count": 52,
     "metadata": {},
     "output_type": "execute_result"
    }
   ],
   "source": [
    "glance(EukDict)"
   ]
  },
  {
   "cell_type": "code",
   "execution_count": 53,
   "metadata": {},
   "outputs": [
    {
     "data": {
      "text/plain": [
       "{'103944': u'Protobothrops mucrosquamatus',\n",
       " '111501': u'Muricauda ruestringensis',\n",
       " '13735': u'Pelodiscus sinensis',\n",
       " '1871188': u'Kitasatospora sp.',\n",
       " '27288': u'Naumovozyma castellii',\n",
       " '27289': u'Naumovozyma dairenensis',\n",
       " '35783': u'Enterococcus sp.',\n",
       " '492670': u'Bacillus velezensis',\n",
       " '60912': u'Pseudonocardia sp.',\n",
       " '77166': u'Dendroctonus ponderosae'}"
      ]
     },
     "execution_count": 53,
     "metadata": {},
     "output_type": "execute_result"
    }
   ],
   "source": [
    "#switch the order order of the dictionary - now taxID: species name\n",
    "switchTaxID = {y:x for x,y in taxID2.iteritems()} \n",
    "\n",
    "glance(switchTaxID)"
   ]
  },
  {
   "cell_type": "code",
   "execution_count": 54,
   "metadata": {},
   "outputs": [
    {
     "data": {
      "text/plain": [
       "{u'Branchiostoma floridae': 1,\n",
       " u'Chlamydia avium': 0,\n",
       " u'Fibrella aestuarina': 0,\n",
       " u'Hevea brasiliensis': 1,\n",
       " u'Mycobacterium colombiense': 0,\n",
       " u'Pandoraea faecigallinarum': 0,\n",
       " u'Phoenix dactylifera': 1,\n",
       " u'Rhodomicrobium vannielii': 0,\n",
       " u'Spizellomyces punctatus': 1,\n",
       " u'Trichoderma reesei': 1}"
      ]
     },
     "execution_count": 54,
     "metadata": {},
     "output_type": "execute_result"
    }
   ],
   "source": [
    "keylist2 = EukDict.keys()\n",
    "#keylist 2 is now a NONREPETITIVE list of taxIDs\n",
    "EukDict2={}\n",
    "\n",
    "for i in keylist2:\n",
    "    key = switchTaxID[i]\n",
    "    value = EukDict[i]\n",
    "    EukDict2[key]=value\n",
    "\n",
    "glance(EukDict2)"
   ]
  },
  {
   "cell_type": "code",
   "execution_count": 55,
   "metadata": {},
   "outputs": [
    {
     "data": {
      "text/plain": [
       "56163"
      ]
     },
     "execution_count": 55,
     "metadata": {},
     "output_type": "execute_result"
    }
   ],
   "source": [
    "\n",
    "#FINALLY get dictionary with Trinity ID and 0 or 1 for EukNotEuk\n",
    "#GeneSpeciesDict keys are trinity ID's (only 41...)\n",
    "keylist3=GeneSpeciesDict.keys()\n",
    "keylist4=EukDict2.keys()\n",
    "lastDict={}\n",
    "for i in keylist3:\n",
    "    if GeneSpeciesDict[i] in keylist4:\n",
    "        newval= EukDict2[(GeneSpeciesDict[i])]\n",
    "        lastDict[i]= newval\n",
    "    else:\n",
    "        lastDict[i] = 0\n",
    "len(lastDict)"
   ]
  },
  {
   "cell_type": "code",
   "execution_count": 56,
   "metadata": {},
   "outputs": [
    {
     "data": {
      "text/plain": [
       "{u'TRINITY_DN1127_c1_g3_i1': 1,\n",
       " u'TRINITY_DN13252_c0_g1_i2': 0,\n",
       " u'TRINITY_DN15850_c0_g1_i1': 0,\n",
       " u'TRINITY_DN16717_c0_g1_i1': 1,\n",
       " u'TRINITY_DN18260_c0_g1_i2': 1,\n",
       " u'TRINITY_DN18434_c0_g1_i1': 0,\n",
       " u'TRINITY_DN20032_c0_g2_i1': 1,\n",
       " u'TRINITY_DN21421_c0_g1_i1': 0,\n",
       " u'TRINITY_DN2441_c1_g4_i2': 1,\n",
       " u'TRINITY_DN43659_c0_g1_i1': 1}"
      ]
     },
     "execution_count": 56,
     "metadata": {},
     "output_type": "execute_result"
    }
   ],
   "source": [
    "glance(lastDict)"
   ]
  },
  {
   "cell_type": "code",
   "execution_count": 57,
   "metadata": {},
   "outputs": [],
   "source": [
    "with open('EukNotEuk.csv', 'w') as f:\n",
    "    [f.write('{0},{1}\\n'.format(key, value)) for key, value in lastDict.items()]"
   ]
  },
  {
   "cell_type": "code",
   "execution_count": null,
   "metadata": {
    "collapsed": true
   },
   "outputs": [],
   "source": []
  }
 ],
 "metadata": {
  "kernelspec": {
   "display_name": "Python 2",
   "language": "python",
   "name": "python2"
  },
  "language_info": {
   "codemirror_mode": {
    "name": "ipython",
    "version": 2
   },
   "file_extension": ".py",
   "mimetype": "text/x-python",
   "name": "python",
   "nbconvert_exporter": "python",
   "pygments_lexer": "ipython2",
   "version": "2.7.15"
  }
 },
 "nbformat": 4,
 "nbformat_minor": 1
}
